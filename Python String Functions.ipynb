{
 "cells": [
  {
   "cell_type": "code",
   "execution_count": 1,
   "id": "4d13af71",
   "metadata": {},
   "outputs": [],
   "source": [
    "a=\"lokesh\"\n",
    "b='SURESH'\n",
    "txt='Hi My name is Lokesh'"
   ]
  },
  {
   "cell_type": "code",
   "execution_count": 2,
   "id": "84bf9119",
   "metadata": {},
   "outputs": [
    {
     "data": {
      "text/plain": [
       "'Lokesh'"
      ]
     },
     "execution_count": 2,
     "metadata": {},
     "output_type": "execute_result"
    }
   ],
   "source": [
    "a.capitalize() #To set first letter as a capital letter"
   ]
  },
  {
   "cell_type": "code",
   "execution_count": 3,
   "id": "e6fd96c2",
   "metadata": {},
   "outputs": [
    {
     "data": {
      "text/plain": [
       "'hi my name is lokesh'"
      ]
     },
     "execution_count": 3,
     "metadata": {},
     "output_type": "execute_result"
    }
   ],
   "source": [
    "txt.casefold() #To conert all capital letters to lower letters"
   ]
  },
  {
   "cell_type": "code",
   "execution_count": 4,
   "id": "c3dc7d11",
   "metadata": {},
   "outputs": [
    {
     "data": {
      "text/plain": [
       "'****************************************************Hi My name is Lokesh****************************************************'"
      ]
     },
     "execution_count": 4,
     "metadata": {},
     "output_type": "execute_result"
    }
   ],
   "source": [
    "txt.center(124,'*')"
   ]
  },
  {
   "cell_type": "code",
   "execution_count": 5,
   "id": "4c56de53",
   "metadata": {},
   "outputs": [
    {
     "data": {
      "text/plain": [
       "'@@@@@lokesh@@@@@'"
      ]
     },
     "execution_count": 5,
     "metadata": {},
     "output_type": "execute_result"
    }
   ],
   "source": [
    "a.center(16,'@')"
   ]
  },
  {
   "cell_type": "code",
   "execution_count": 6,
   "id": "c702e8c3",
   "metadata": {},
   "outputs": [
    {
     "data": {
      "text/plain": [
       "1"
      ]
     },
     "execution_count": 6,
     "metadata": {},
     "output_type": "execute_result"
    }
   ],
   "source": [
    "txt.count('Hi') #To count number of particular words"
   ]
  },
  {
   "cell_type": "code",
   "execution_count": 7,
   "id": "700f710d",
   "metadata": {},
   "outputs": [
    {
     "data": {
      "text/plain": [
       "4"
      ]
     },
     "execution_count": 7,
     "metadata": {},
     "output_type": "execute_result"
    }
   ],
   "source": [
    "txt.count(' ')"
   ]
  },
  {
   "cell_type": "code",
   "execution_count": 9,
   "id": "ab088004",
   "metadata": {},
   "outputs": [
    {
     "data": {
      "text/plain": [
       "b'lokesh'"
      ]
     },
     "execution_count": 9,
     "metadata": {},
     "output_type": "execute_result"
    }
   ],
   "source": [
    "a.encode()"
   ]
  },
  {
   "cell_type": "code",
   "execution_count": 10,
   "id": "609bf51e",
   "metadata": {},
   "outputs": [],
   "source": [
    "x= \"My name is Ståle\""
   ]
  },
  {
   "cell_type": "code",
   "execution_count": 11,
   "id": "4acc4782",
   "metadata": {},
   "outputs": [
    {
     "data": {
      "text/plain": [
       "b'My name is St\\xc3\\xa5le'"
      ]
     },
     "execution_count": 11,
     "metadata": {},
     "output_type": "execute_result"
    }
   ],
   "source": [
    "x.encode() #It encodes special strings"
   ]
  },
  {
   "cell_type": "code",
   "execution_count": 14,
   "id": "89f251c2",
   "metadata": {},
   "outputs": [
    {
     "data": {
      "text/plain": [
       "False"
      ]
     },
     "execution_count": 14,
     "metadata": {},
     "output_type": "execute_result"
    }
   ],
   "source": [
    "txt.endswith('y') #To find particular words consists particular  letters"
   ]
  },
  {
   "cell_type": "code",
   "execution_count": 15,
   "id": "56ea224d",
   "metadata": {},
   "outputs": [
    {
     "data": {
      "text/plain": [
       "True"
      ]
     },
     "execution_count": 15,
     "metadata": {},
     "output_type": "execute_result"
    }
   ],
   "source": [
    "txt.endswith('h')"
   ]
  },
  {
   "cell_type": "code",
   "execution_count": 16,
   "id": "68d0cd0b",
   "metadata": {},
   "outputs": [
    {
     "data": {
      "text/plain": [
       "True"
      ]
     },
     "execution_count": 16,
     "metadata": {},
     "output_type": "execute_result"
    }
   ],
   "source": [
    "b.endswith('H')"
   ]
  },
  {
   "cell_type": "code",
   "execution_count": 18,
   "id": "2616d94e",
   "metadata": {},
   "outputs": [
    {
     "data": {
      "text/plain": [
       "True"
      ]
     },
     "execution_count": 18,
     "metadata": {},
     "output_type": "execute_result"
    }
   ],
   "source": [
    "txt.endswith('Lokesh')"
   ]
  },
  {
   "cell_type": "code",
   "execution_count": 24,
   "id": "484883bf",
   "metadata": {},
   "outputs": [],
   "source": [
    "name=\"H\\te\\tl\\tl\\to\""
   ]
  },
  {
   "cell_type": "code",
   "execution_count": 27,
   "id": "33397046",
   "metadata": {},
   "outputs": [
    {
     "data": {
      "text/plain": [
       "'Hello'"
      ]
     },
     "execution_count": 27,
     "metadata": {},
     "output_type": "execute_result"
    }
   ],
   "source": [
    "name.expandtabs(0) #sets the tab size"
   ]
  },
  {
   "cell_type": "code",
   "execution_count": 28,
   "id": "58067e34",
   "metadata": {},
   "outputs": [
    {
     "data": {
      "text/plain": [
       "'H   e   l   l   o'"
      ]
     },
     "execution_count": 28,
     "metadata": {},
     "output_type": "execute_result"
    }
   ],
   "source": [
    "name.expandtabs(4)"
   ]
  },
  {
   "cell_type": "code",
   "execution_count": 102,
   "id": "d03d409e",
   "metadata": {},
   "outputs": [
    {
     "data": {
      "text/plain": [
       "19"
      ]
     },
     "execution_count": 102,
     "metadata": {},
     "output_type": "execute_result"
    }
   ],
   "source": [
    "txt.index('h')"
   ]
  },
  {
   "cell_type": "code",
   "execution_count": 105,
   "id": "a685d50e",
   "metadata": {},
   "outputs": [
    {
     "data": {
      "text/plain": [
       "9"
      ]
     },
     "execution_count": 105,
     "metadata": {},
     "output_type": "execute_result"
    }
   ],
   "source": [
    "txt.index('e')"
   ]
  },
  {
   "cell_type": "code",
   "execution_count": 106,
   "id": "06463438",
   "metadata": {},
   "outputs": [
    {
     "ename": "ValueError",
     "evalue": "substring not found",
     "output_type": "error",
     "traceback": [
      "\u001b[1;31m---------------------------------------------------------------------------\u001b[0m",
      "\u001b[1;31mValueError\u001b[0m                                Traceback (most recent call last)",
      "Input \u001b[1;32mIn [106]\u001b[0m, in \u001b[0;36m<cell line: 1>\u001b[1;34m()\u001b[0m\n\u001b[1;32m----> 1\u001b[0m \u001b[43mtxt\u001b[49m\u001b[38;5;241;43m.\u001b[39;49m\u001b[43mindex\u001b[49m\u001b[43m(\u001b[49m\u001b[38;5;124;43m'\u001b[39;49m\u001b[38;5;124;43mz\u001b[39;49m\u001b[38;5;124;43m'\u001b[39;49m\u001b[43m)\u001b[49m\n",
      "\u001b[1;31mValueError\u001b[0m: substring not found"
     ]
    }
   ],
   "source": [
    "txt.index('z')"
   ]
  },
  {
   "cell_type": "markdown",
   "id": "d70d857d",
   "metadata": {},
   "source": [
    "#### diff bw index() and find()\n",
    "find gives -1 as output if it is unable to find substring,index throws value error"
   ]
  },
  {
   "cell_type": "code",
   "execution_count": 108,
   "id": "bf41ab59",
   "metadata": {},
   "outputs": [
    {
     "data": {
      "text/plain": [
       "19"
      ]
     },
     "execution_count": 108,
     "metadata": {},
     "output_type": "execute_result"
    }
   ],
   "source": [
    "txt.rindex('h')"
   ]
  },
  {
   "cell_type": "code",
   "execution_count": 109,
   "id": "fefaea98",
   "metadata": {},
   "outputs": [
    {
     "data": {
      "text/plain": [
       "17"
      ]
     },
     "execution_count": 109,
     "metadata": {},
     "output_type": "execute_result"
    }
   ],
   "source": [
    "txt.rindex('e')"
   ]
  },
  {
   "cell_type": "code",
   "execution_count": 110,
   "id": "e8791890",
   "metadata": {},
   "outputs": [
    {
     "ename": "ValueError",
     "evalue": "substring not found",
     "output_type": "error",
     "traceback": [
      "\u001b[1;31m---------------------------------------------------------------------------\u001b[0m",
      "\u001b[1;31mValueError\u001b[0m                                Traceback (most recent call last)",
      "Input \u001b[1;32mIn [110]\u001b[0m, in \u001b[0;36m<cell line: 1>\u001b[1;34m()\u001b[0m\n\u001b[1;32m----> 1\u001b[0m \u001b[43mtxt\u001b[49m\u001b[38;5;241;43m.\u001b[39;49m\u001b[43mrindex\u001b[49m\u001b[43m(\u001b[49m\u001b[38;5;124;43m'\u001b[39;49m\u001b[38;5;124;43mz\u001b[39;49m\u001b[38;5;124;43m'\u001b[39;49m\u001b[43m)\u001b[49m\n",
      "\u001b[1;31mValueError\u001b[0m: substring not found"
     ]
    }
   ],
   "source": [
    "txt.rindex('z')"
   ]
  },
  {
   "cell_type": "code",
   "execution_count": 29,
   "id": "f3fd141b",
   "metadata": {},
   "outputs": [
    {
     "data": {
      "text/plain": [
       "5"
      ]
     },
     "execution_count": 29,
     "metadata": {},
     "output_type": "execute_result"
    }
   ],
   "source": [
    "a.find('h')"
   ]
  },
  {
   "cell_type": "code",
   "execution_count": 31,
   "id": "7ccc0840",
   "metadata": {},
   "outputs": [
    {
     "data": {
      "text/plain": [
       "3"
      ]
     },
     "execution_count": 31,
     "metadata": {},
     "output_type": "execute_result"
    }
   ],
   "source": [
    "txt.find('M')"
   ]
  },
  {
   "cell_type": "code",
   "execution_count": 34,
   "id": "578bbdf2",
   "metadata": {},
   "outputs": [
    {
     "data": {
      "text/plain": [
       "-1"
      ]
     },
     "execution_count": 34,
     "metadata": {},
     "output_type": "execute_result"
    }
   ],
   "source": [
    "txt.find('z')"
   ]
  },
  {
   "cell_type": "code",
   "execution_count": 99,
   "id": "48d8df4c",
   "metadata": {},
   "outputs": [
    {
     "data": {
      "text/plain": [
       "'Hi My name is Lokesh'"
      ]
     },
     "execution_count": 99,
     "metadata": {},
     "output_type": "execute_result"
    }
   ],
   "source": [
    "txt"
   ]
  },
  {
   "cell_type": "code",
   "execution_count": 32,
   "id": "1ddc6947",
   "metadata": {},
   "outputs": [
    {
     "data": {
      "text/plain": [
       "11"
      ]
     },
     "execution_count": 32,
     "metadata": {},
     "output_type": "execute_result"
    }
   ],
   "source": [
    "txt.find('is') #To get a position of letters or words from left to right"
   ]
  },
  {
   "cell_type": "code",
   "execution_count": 98,
   "id": "c239ddeb",
   "metadata": {},
   "outputs": [
    {
     "data": {
      "text/plain": [
       "11"
      ]
     },
     "execution_count": 98,
     "metadata": {},
     "output_type": "execute_result"
    }
   ],
   "source": [
    "txt.rfind('is')"
   ]
  },
  {
   "cell_type": "code",
   "execution_count": 100,
   "id": "3954781f",
   "metadata": {},
   "outputs": [
    {
     "data": {
      "text/plain": [
       "9"
      ]
     },
     "execution_count": 100,
     "metadata": {},
     "output_type": "execute_result"
    }
   ],
   "source": [
    "txt.find('e')"
   ]
  },
  {
   "cell_type": "code",
   "execution_count": 101,
   "id": "0baa830b",
   "metadata": {},
   "outputs": [
    {
     "data": {
      "text/plain": [
       "17"
      ]
     },
     "execution_count": 101,
     "metadata": {},
     "output_type": "execute_result"
    }
   ],
   "source": [
    "txt.rfind('e')"
   ]
  },
  {
   "cell_type": "code",
   "execution_count": 103,
   "id": "bb26230e",
   "metadata": {},
   "outputs": [
    {
     "data": {
      "text/plain": [
       "-1"
      ]
     },
     "execution_count": 103,
     "metadata": {},
     "output_type": "execute_result"
    }
   ],
   "source": [
    "txt.rfind('z')"
   ]
  },
  {
   "cell_type": "markdown",
   "id": "013b539d",
   "metadata": {},
   "source": [
    "#### Diff bw find() and rfind()\n",
    "rfind() returns the highest index (from the right) for the provided substring, whereas find() returns the index position of the element's first occurrence, i.e. the very first index"
   ]
  },
  {
   "cell_type": "code",
   "execution_count": 57,
   "id": "98cbdd7f",
   "metadata": {},
   "outputs": [
    {
     "name": "stdout",
     "output_type": "stream",
     "text": [
      "CPU times: total: 0 ns\n",
      "Wall time: 0 ns\n"
     ]
    }
   ],
   "source": [
    "'My name is {}'.format(a)"
   ]
  },
  {
   "cell_type": "code",
   "execution_count": 41,
   "id": "9e36d6d2",
   "metadata": {},
   "outputs": [
    {
     "data": {
      "text/plain": [
       "'My name is lokesh and my friend name is SURESH'"
      ]
     },
     "execution_count": 41,
     "metadata": {},
     "output_type": "execute_result"
    }
   ],
   "source": [
    "'My name is {} and my friend name is {}'.format(a,b)"
   ]
  },
  {
   "cell_type": "code",
   "execution_count": 42,
   "id": "125564a7",
   "metadata": {},
   "outputs": [
    {
     "data": {
      "text/plain": [
       "'My name is SURESH and my friend name is lokesh'"
      ]
     },
     "execution_count": 42,
     "metadata": {},
     "output_type": "execute_result"
    }
   ],
   "source": [
    "'My name is {} and my friend name is {}'.format(b,a)"
   ]
  },
  {
   "cell_type": "code",
   "execution_count": 49,
   "id": "0d5d7360",
   "metadata": {},
   "outputs": [],
   "source": [
    "a={'name':['Lokesh','suresh','sai','paramesh'],'age':[26,25,27,28]}"
   ]
  },
  {
   "cell_type": "code",
   "execution_count": 50,
   "id": "63f6bec8",
   "metadata": {},
   "outputs": [
    {
     "data": {
      "text/plain": [
       "'My name is Lokesh and my age is 25'"
      ]
     },
     "execution_count": 50,
     "metadata": {},
     "output_type": "execute_result"
    }
   ],
   "source": [
    "'My name is {name[0]} and my age is {age[1]}'.format_map(a)#which is used to return a dictionary key’s value."
   ]
  },
  {
   "cell_type": "code",
   "execution_count": 51,
   "id": "bd705b0e",
   "metadata": {},
   "outputs": [
    {
     "data": {
      "text/plain": [
       "'My name is suresh and my age is 26'"
      ]
     },
     "execution_count": 51,
     "metadata": {},
     "output_type": "execute_result"
    }
   ],
   "source": [
    "'My name is {name[1]} and my age is {age[0]}'.format_map(a)"
   ]
  },
  {
   "cell_type": "code",
   "execution_count": 63,
   "id": "a3881d64",
   "metadata": {},
   "outputs": [],
   "source": [
    "d={'loki','suri','param','sai'}"
   ]
  },
  {
   "cell_type": "code",
   "execution_count": 66,
   "id": "66dd9ab9",
   "metadata": {},
   "outputs": [
    {
     "data": {
      "text/plain": [
       "'param-sai-suri-loki'"
      ]
     },
     "execution_count": 66,
     "metadata": {},
     "output_type": "execute_result"
    }
   ],
   "source": [
    "'-'.join(d)"
   ]
  },
  {
   "cell_type": "code",
   "execution_count": 67,
   "id": "7eebb741",
   "metadata": {},
   "outputs": [
    {
     "data": {
      "text/plain": [
       "'name&age'"
      ]
     },
     "execution_count": 67,
     "metadata": {},
     "output_type": "execute_result"
    }
   ],
   "source": [
    "'&'.join(a)"
   ]
  },
  {
   "cell_type": "code",
   "execution_count": 68,
   "id": "6d69f0b5",
   "metadata": {},
   "outputs": [
    {
     "data": {
      "text/plain": [
       "'SURESH$$$$$$$$$$$$$$'"
      ]
     },
     "execution_count": 68,
     "metadata": {},
     "output_type": "execute_result"
    }
   ],
   "source": [
    "b.ljust(20,'$')"
   ]
  },
  {
   "cell_type": "code",
   "execution_count": 69,
   "id": "279fefc3",
   "metadata": {},
   "outputs": [
    {
     "data": {
      "text/plain": [
       "'&&&&&&&&&&&&&&SURESH'"
      ]
     },
     "execution_count": 69,
     "metadata": {},
     "output_type": "execute_result"
    }
   ],
   "source": [
    "b.rjust(20,'&')"
   ]
  },
  {
   "cell_type": "code",
   "execution_count": 70,
   "id": "764deaf1",
   "metadata": {},
   "outputs": [
    {
     "data": {
      "text/plain": [
       "'suresh'"
      ]
     },
     "execution_count": 70,
     "metadata": {},
     "output_type": "execute_result"
    }
   ],
   "source": [
    "b.lower() #Converting alll letters into lowers letters"
   ]
  },
  {
   "cell_type": "code",
   "execution_count": 71,
   "id": "20fb668f",
   "metadata": {},
   "outputs": [
    {
     "data": {
      "text/plain": [
       "'SURESH'"
      ]
     },
     "execution_count": 71,
     "metadata": {},
     "output_type": "execute_result"
    }
   ],
   "source": [
    "b.lstrip()"
   ]
  },
  {
   "cell_type": "code",
   "execution_count": 79,
   "id": "708861e4",
   "metadata": {},
   "outputs": [],
   "source": [
    "a='     lokesh        '"
   ]
  },
  {
   "cell_type": "code",
   "execution_count": 80,
   "id": "65225477",
   "metadata": {},
   "outputs": [
    {
     "data": {
      "text/plain": [
       "'lokesh        '"
      ]
     },
     "execution_count": 80,
     "metadata": {},
     "output_type": "execute_result"
    }
   ],
   "source": [
    "a.lstrip()#removing left side spaces only "
   ]
  },
  {
   "cell_type": "code",
   "execution_count": 81,
   "id": "27edbc97",
   "metadata": {},
   "outputs": [
    {
     "data": {
      "text/plain": [
       "'     lokesh'"
      ]
     },
     "execution_count": 81,
     "metadata": {},
     "output_type": "execute_result"
    }
   ],
   "source": [
    "a.rstrip()#removing right side spaces only"
   ]
  },
  {
   "cell_type": "code",
   "execution_count": 82,
   "id": "0fcfd42d",
   "metadata": {},
   "outputs": [
    {
     "data": {
      "text/plain": [
       "'lokesh'"
      ]
     },
     "execution_count": 82,
     "metadata": {},
     "output_type": "execute_result"
    }
   ],
   "source": [
    "a.strip()#removing all spaces left and right"
   ]
  },
  {
   "cell_type": "code",
   "execution_count": 88,
   "id": "d4697965",
   "metadata": {},
   "outputs": [
    {
     "name": "stdout",
     "output_type": "stream",
     "text": [
      "*****lokesh********\n"
     ]
    }
   ],
   "source": [
    "#The maketrans() method returns a mapping table that can be used with the translate() method to replace specified characters\n",
    "mytable = str.maketrans(\" \", \"*\") #\n",
    "print(a.translate(mytable))"
   ]
  },
  {
   "cell_type": "code",
   "execution_count": 87,
   "id": "d90c2c51",
   "metadata": {},
   "outputs": [
    {
     "name": "stdout",
     "output_type": "stream",
     "text": [
      "Hi My name iS LokeSh\n"
     ]
    }
   ],
   "source": [
    "mytable = str.maketrans(\"s\", \"S\")\n",
    "print(txt.translate(mytable))"
   ]
  },
  {
   "cell_type": "code",
   "execution_count": 93,
   "id": "bc5ffd8f",
   "metadata": {},
   "outputs": [
    {
     "data": {
      "text/plain": [
       "('Hi', ' ', 'My name is Lokesh')"
      ]
     },
     "execution_count": 93,
     "metadata": {},
     "output_type": "execute_result"
    }
   ],
   "source": [
    "#The partition() method searches for a specified string, and splits the string into a tuple containing three elements.\n",
    "txt.partition(' ')"
   ]
  },
  {
   "cell_type": "code",
   "execution_count": 92,
   "id": "8cbad1df",
   "metadata": {},
   "outputs": [
    {
     "data": {
      "text/plain": [
       "('Hi My ', 'name', ' is Lokesh')"
      ]
     },
     "execution_count": 92,
     "metadata": {},
     "output_type": "execute_result"
    }
   ],
   "source": [
    "txt.partition('name')"
   ]
  },
  {
   "cell_type": "code",
   "execution_count": 111,
   "id": "e471efcc",
   "metadata": {},
   "outputs": [
    {
     "data": {
      "text/plain": [
       "('Hi My ', 'name', ' is Lokesh')"
      ]
     },
     "execution_count": 111,
     "metadata": {},
     "output_type": "execute_result"
    }
   ],
   "source": [
    "txt.rpartition('name')"
   ]
  },
  {
   "cell_type": "code",
   "execution_count": 112,
   "id": "f0e398fb",
   "metadata": {},
   "outputs": [
    {
     "data": {
      "text/plain": [
       "('Hi My name is', ' ', 'Lokesh')"
      ]
     },
     "execution_count": 112,
     "metadata": {},
     "output_type": "execute_result"
    }
   ],
   "source": [
    "txt.rpartition(' ')"
   ]
  },
  {
   "cell_type": "code",
   "execution_count": 96,
   "id": "30045128",
   "metadata": {},
   "outputs": [
    {
     "data": {
      "text/plain": [
       "'Hi My name is Suresh'"
      ]
     },
     "execution_count": 96,
     "metadata": {},
     "output_type": "execute_result"
    }
   ],
   "source": [
    "txt.replace('Lokesh','Suresh') #To replace a particular value"
   ]
  },
  {
   "cell_type": "code",
   "execution_count": 113,
   "id": "aa507f85",
   "metadata": {},
   "outputs": [
    {
     "data": {
      "text/plain": [
       "['Hi', 'My', 'name', 'is', 'Lokesh']"
      ]
     },
     "execution_count": 113,
     "metadata": {},
     "output_type": "execute_result"
    }
   ],
   "source": [
    "txt.split() #splitting entie sentence into words"
   ]
  },
  {
   "cell_type": "code",
   "execution_count": 119,
   "id": "af995d3b",
   "metadata": {},
   "outputs": [
    {
     "data": {
      "text/plain": [
       "['Hi My name ', ' Lokesh']"
      ]
     },
     "execution_count": 119,
     "metadata": {},
     "output_type": "execute_result"
    }
   ],
   "source": [
    "txt.split('is')"
   ]
  },
  {
   "cell_type": "code",
   "execution_count": 120,
   "id": "296b51c7",
   "metadata": {},
   "outputs": [
    {
     "data": {
      "text/plain": [
       "['Hi My name ', ' Lokesh']"
      ]
     },
     "execution_count": 120,
     "metadata": {},
     "output_type": "execute_result"
    }
   ],
   "source": [
    "txt.rsplit('is')"
   ]
  },
  {
   "cell_type": "code",
   "execution_count": 124,
   "id": "06721a1d",
   "metadata": {},
   "outputs": [
    {
     "data": {
      "text/plain": [
       "['Hi My nam', ' is Lokesh']"
      ]
     },
     "execution_count": 124,
     "metadata": {},
     "output_type": "execute_result"
    }
   ],
   "source": [
    "txt.split('e',1)"
   ]
  },
  {
   "cell_type": "code",
   "execution_count": 123,
   "id": "3259c5a1",
   "metadata": {},
   "outputs": [
    {
     "data": {
      "text/plain": [
       "['Hi My name is Lok', 'sh']"
      ]
     },
     "execution_count": 123,
     "metadata": {},
     "output_type": "execute_result"
    }
   ],
   "source": [
    "txt.rsplit('e',1)"
   ]
  },
  {
   "cell_type": "code",
   "execution_count": 125,
   "id": "51b3e434",
   "metadata": {},
   "outputs": [],
   "source": [
    "txt = \"Thank you for the music\\nWelcome to the jungle\""
   ]
  },
  {
   "cell_type": "code",
   "execution_count": 126,
   "id": "c4700865",
   "metadata": {},
   "outputs": [
    {
     "data": {
      "text/plain": [
       "['Thank you for the music', 'Welcome to the jungle']"
      ]
     },
     "execution_count": 126,
     "metadata": {},
     "output_type": "execute_result"
    }
   ],
   "source": [
    "txt.splitlines() #splits a string into a list. The splitting is done at line breaks."
   ]
  },
  {
   "cell_type": "code",
   "execution_count": 127,
   "id": "77cf4198",
   "metadata": {},
   "outputs": [
    {
     "data": {
      "text/plain": [
       "['Thank you for the music\\n', 'Welcome to the jungle']"
      ]
     },
     "execution_count": 127,
     "metadata": {},
     "output_type": "execute_result"
    }
   ],
   "source": [
    "txt.splitlines(True)"
   ]
  },
  {
   "cell_type": "code",
   "execution_count": 130,
   "id": "412f26ba",
   "metadata": {},
   "outputs": [
    {
     "data": {
      "text/plain": [
       "True"
      ]
     },
     "execution_count": 130,
     "metadata": {},
     "output_type": "execute_result"
    }
   ],
   "source": [
    "txt.startswith('Thank')"
   ]
  },
  {
   "cell_type": "code",
   "execution_count": 131,
   "id": "d80017fd",
   "metadata": {},
   "outputs": [
    {
     "data": {
      "text/plain": [
       "True"
      ]
     },
     "execution_count": 131,
     "metadata": {},
     "output_type": "execute_result"
    }
   ],
   "source": [
    "txt.startswith('T')"
   ]
  },
  {
   "cell_type": "code",
   "execution_count": 134,
   "id": "9ef71b9e",
   "metadata": {},
   "outputs": [
    {
     "data": {
      "text/plain": [
       "'Thank you for the music\\nWelcome to the jungle'"
      ]
     },
     "execution_count": 134,
     "metadata": {},
     "output_type": "execute_result"
    }
   ],
   "source": [
    "txt"
   ]
  },
  {
   "cell_type": "code",
   "execution_count": 133,
   "id": "43a0609f",
   "metadata": {},
   "outputs": [
    {
     "data": {
      "text/plain": [
       "'tHANK YOU FOR THE MUSIC\\nwELCOME TO THE JUNGLE'"
      ]
     },
     "execution_count": 133,
     "metadata": {},
     "output_type": "execute_result"
    }
   ],
   "source": [
    "txt.swapcase() #converting lower ato upper and upper to lower"
   ]
  },
  {
   "cell_type": "code",
   "execution_count": 135,
   "id": "d4edcf9a",
   "metadata": {},
   "outputs": [
    {
     "data": {
      "text/plain": [
       "'Thank You For The Music\\nWelcome To The Jungle'"
      ]
     },
     "execution_count": 135,
     "metadata": {},
     "output_type": "execute_result"
    }
   ],
   "source": [
    "txt.title()"
   ]
  },
  {
   "cell_type": "code",
   "execution_count": 136,
   "id": "a008ddac",
   "metadata": {},
   "outputs": [
    {
     "data": {
      "text/plain": [
       "'THANK YOU FOR THE MUSIC\\nWELCOME TO THE JUNGLE'"
      ]
     },
     "execution_count": 136,
     "metadata": {},
     "output_type": "execute_result"
    }
   ],
   "source": [
    "txt.upper()"
   ]
  },
  {
   "cell_type": "code",
   "execution_count": 137,
   "id": "38ea42cc",
   "metadata": {},
   "outputs": [
    {
     "data": {
      "text/plain": [
       "'0000SURESH'"
      ]
     },
     "execution_count": 137,
     "metadata": {},
     "output_type": "execute_result"
    }
   ],
   "source": [
    "b.zfill(10)"
   ]
  }
 ],
 "metadata": {
  "kernelspec": {
   "display_name": "Python 3 (ipykernel)",
   "language": "python",
   "name": "python3"
  },
  "language_info": {
   "codemirror_mode": {
    "name": "ipython",
    "version": 3
   },
   "file_extension": ".py",
   "mimetype": "text/x-python",
   "name": "python",
   "nbconvert_exporter": "python",
   "pygments_lexer": "ipython3",
   "version": "3.9.12"
  }
 },
 "nbformat": 4,
 "nbformat_minor": 5
}
